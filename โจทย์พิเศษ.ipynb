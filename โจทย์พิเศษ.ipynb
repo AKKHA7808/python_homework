{
 "cells": [
  {
   "cell_type": "code",
   "execution_count": 4,
   "id": "af836ab8-1f75-4aa2-9bd2-908789ceb75c",
   "metadata": {},
   "outputs": [
    {
     "name": "stdin",
     "output_type": "stream",
     "text": [
      " 5 12\n"
     ]
    },
    {
     "name": "stdout",
     "output_type": "stream",
     "text": [
      "3\n"
     ]
    }
   ],
   "source": [
    "def frog_jump(x, y):\n",
    "    \"\"\"คำนวณจำนวนครั้งที่กบต้องกระโดด\"\"\"\n",
    "    if y % x == 0:\n",
    "        return y // x\n",
    "    else:\n",
    "        return y // x + 1\n",
    "\n",
    "x, y = map(int, input().split())\n",
    "\n",
    "result = frog_jump(x, y)\n",
    "print(result)"
   ]
  },
  {
   "cell_type": "code",
   "execution_count": null,
   "id": "c77da60e-44b0-4990-b605-f50cfcc303dc",
   "metadata": {},
   "outputs": [],
   "source": []
  }
 ],
 "metadata": {
  "kernelspec": {
   "display_name": "Python 3 (ipykernel)",
   "language": "python",
   "name": "python3"
  },
  "language_info": {
   "codemirror_mode": {
    "name": "ipython",
    "version": 3
   },
   "file_extension": ".py",
   "mimetype": "text/x-python",
   "name": "python",
   "nbconvert_exporter": "python",
   "pygments_lexer": "ipython3",
   "version": "3.13.0"
  }
 },
 "nbformat": 4,
 "nbformat_minor": 5
}
