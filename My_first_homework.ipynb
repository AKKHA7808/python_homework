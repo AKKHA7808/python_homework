{
 "cells": [
  {
   "cell_type": "markdown",
   "id": "73ed7de3-1321-4f4b-b3b6-2dc83753f54e",
   "metadata": {},
   "source": [
    "นาย อรรคพันธ์ พันธุ์งาม\n",
    "\n",
    "รหัส 6712732120"
   ]
  },
  {
   "cell_type": "code",
   "execution_count": 1,
   "id": "040de625-625f-4261-83bd-a703cdbaa0c3",
   "metadata": {},
   "outputs": [
    {
     "name": "stdout",
     "output_type": "stream",
     "text": [
      "Hello World\n"
     ]
    }
   ],
   "source": [
    "print(\"Hello World\")\n"
   ]
  },
  {
   "cell_type": "code",
   "execution_count": null,
   "id": "8c5ec7ee-756f-460d-a76a-37101f7e59fb",
   "metadata": {},
   "outputs": [],
   "source": []
  }
 ],
 "metadata": {
  "kernelspec": {
   "display_name": "Python 3 (ipykernel)",
   "language": "python",
   "name": "python3"
  },
  "language_info": {
   "codemirror_mode": {
    "name": "ipython",
    "version": 3
   },
   "file_extension": ".py",
   "mimetype": "text/x-python",
   "name": "python",
   "nbconvert_exporter": "python",
   "pygments_lexer": "ipython3",
   "version": "3.13.0"
  }
 },
 "nbformat": 4,
 "nbformat_minor": 5
}
